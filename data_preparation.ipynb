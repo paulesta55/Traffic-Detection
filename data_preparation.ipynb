{
 "cells": [
  {
   "cell_type": "code",
   "execution_count": null,
   "metadata": {},
   "outputs": [],
   "source": [
    "import os "
   ]
  },
  {
   "cell_type": "code",
   "execution_count": 1,
   "metadata": {},
   "outputs": [
    {
     "name": "stdout",
     "output_type": "stream",
     "text": [
      "['c:\\\\users\\\\paul pc\\\\appdata\\\\local\\\\programs\\\\python\\\\python36\\\\python36.zip', 'c:\\\\users\\\\paul pc\\\\appdata\\\\local\\\\programs\\\\python\\\\python36\\\\DLLs', 'c:\\\\users\\\\paul pc\\\\appdata\\\\local\\\\programs\\\\python\\\\python36\\\\lib', 'c:\\\\users\\\\paul pc\\\\appdata\\\\local\\\\programs\\\\python\\\\python36', '', 'C:\\\\Users\\\\Paul PC\\\\AppData\\\\Roaming\\\\Python\\\\Python36\\\\site-packages', 'c:\\\\users\\\\paul pc\\\\appdata\\\\local\\\\programs\\\\python\\\\python36\\\\lib\\\\site-packages', 'c:\\\\users\\\\paul pc\\\\appdata\\\\local\\\\programs\\\\python\\\\python36\\\\lib\\\\site-packages\\\\IPython\\\\extensions', 'C:\\\\Users\\\\Paul PC\\\\.ipython']\n"
     ]
    }
   ],
   "source": [
    "import sys\n",
    "print(sys.path)"
   ]
  },
  {
   "cell_type": "code",
   "execution_count": 4,
   "metadata": {},
   "outputs": [],
   "source": [
    "!mkdir data"
   ]
  },
  {
   "cell_type": "code",
   "execution_count": 72,
   "metadata": {},
   "outputs": [],
   "source": [
    "import os\n",
    "import re\n",
    "\n",
    "from PIL import Image\n",
    "import pandas as pd\n",
    "import matplotlib.pyplot as plt"
   ]
  },
  {
   "cell_type": "code",
   "execution_count": 3,
   "metadata": {},
   "outputs": [],
   "source": [
    "class DataLoader:\n",
    "    \n",
    "    def __init__(self,names_path,desc_path,label_path,in_img_path,out_img_path,verbose):\n",
    "        self.verbose = verbose\n",
    "        self.names_path = names_path\n",
    "        self.desc_path = desc_path\n",
    "        self.in_img_path = in_img_path\n",
    "        self.out_img_path = out_img_path\n",
    "        self.label_path = label_path\n",
    "        self.gtsdb = pd.read_csv(os.path.abspath(label_path), sep=\";\", header=None,names=\n",
    "                                 [\"img\", \"x1\", \"y1\", \"x2\", \"y2\",\"id\"])\n",
    "        print(self.gtsdb.head())\n",
    "        \n",
    "    def __getattr__(self,attribute):\n",
    "        return self[attribute]\n",
    "    \n",
    "    def __getitem__(self,idx):\n",
    "        return {'img':self.load_image(idx),\n",
    "                'label':self.gtsdb.iloc[idx]['id'],\n",
    "                'name':self.gtsdb.iloc[idx]['img'],\n",
    "                'x1':self.gtsdb.iloc[idx]['x1'],\n",
    "               'x2':self.gtsdb.iloc[idx]['x2'],\n",
    "               'y1':self.gtsdb.iloc[idx]['y1'],\n",
    "                'y2':self.gtsdb.iloc[idx]['y2']}\n",
    "        \n",
    "    def __len__(self):\n",
    "        return len(self.gtsdb)\n",
    "        \n",
    "    def load_image(self,idx):\n",
    "        if(self.verbose):\n",
    "            print(\"Loading image at {0}\".format(self.gtsdb.iloc[idx]['img']))\n",
    "        return Image.open(os.path.join(self.in_img_path,self.gtsdb.iloc[idx]['img']))\n",
    "    \n",
    "    def format_class_name(self,class_name):\n",
    "        class_name = class_name.lower().replace(' ','-')+'\\n'\n",
    "        if(self.verbose):\n",
    "            print(class_name)\n",
    "        return class_name\n",
    "    \n",
    "    def dump_class_name(self,path,class_name):\n",
    "        with open(os.path.abspath(path),'w') as f:\n",
    "            f.write(class_name+os.linesep)\n",
    "            \n",
    "    def dump_classes(self):\n",
    "        lines = []\n",
    "        with open(os.path.abspath(self.desc_path),'r') as desc_file:\n",
    "            lines = desc_file.readlines()\n",
    "        if(self.verbose):\n",
    "            print(\"\".join(lines))\n",
    "        pattern = re.compile('^\\d{1,2}\\s=\\s(.*)')\n",
    "        search  = lambda l : re.search(pattern,l)\n",
    "        names =[match.group(1) for match in map(search,lines) if(match is not None) ]\n",
    "        with open(os.path.abspath(self.names_path), 'w') as names_file:\n",
    "            for n in names:\n",
    "                names_file.write(self.format_class_name(n))\n",
    "   \n",
    "    def convert_all(self):\n",
    "        cache = []\n",
    "        for im in self:\n",
    "            if(im['name'] not in cache):\n",
    "                self.ppm2jpg(im['img'],im['name'])\n",
    "                cache.append(im['name'])\n",
    "\n",
    "    \n",
    "    def ppm2jpg(self,img,img_name):\n",
    "        os.makedirs(self.out_img_path,exist_ok=True)\n",
    "        img.save(os.path.join(self.out_img_path,os.path.splitext(img_name)[0]+'.jpg'))\n",
    "    \n",
    "    \n",
    "    def get_bb_coordinates(self,example):\n",
    "        im_height = example['img'].height\n",
    "        im_width = example['img'].width\n",
    "        x_center = (example['x2']+example['x1'])/(2.0*im_width)\n",
    "        y_center = (example['y2']+example['y1'])/(2.0*im_height)\n",
    "        height = (example['y2']-example['y1'])/im_height\n",
    "        width = (example['x2']-example['x1'])/im_width\n",
    "        return{'label':example['label'],\n",
    "               'x_center':x_center,\n",
    "               'y_center':y_center,\n",
    "               'width':width,\n",
    "               'height':height}\n",
    "        \n",
    "    def dump_all(self):\n",
    "        for img_name in self.gtsdb.img:\n",
    "            if(self.verbose):\n",
    "                print(img_name)\n",
    "            with open(os.path.join(self.out_img_path,os.path.splitext(img_name)[0]+'.txt'),'w') as label_file:\n",
    "                for index, row in self.gtsdb.loc[self.gtsdb['img'] == img_name].iterrows():\n",
    "                    bb_coordinates = self.get_bb_coordinates(self[index])\n",
    "                    \n",
    "                    if(self.verbose):\n",
    "                        print(index)\n",
    "                        print(bb_coordinates)\n",
    "                    sep = ' '\n",
    "                    label_file.write(str(bb_coordinates['label'])+sep+str(bb_coordinates['x_center'])+sep+\n",
    "                                     str(bb_coordinates['y_center'])\n",
    "                                     +sep+str(bb_coordinates['width'])+sep+str(bb_coordinates['height'])+'\\n')\n",
    "        \n",
    "                "
   ]
  },
  {
   "cell_type": "code",
   "execution_count": 5,
   "metadata": {},
   "outputs": [
    {
     "name": "stdout",
     "output_type": "stream",
     "text": [
      "         img   x1   y1    x2   y2  id\n",
      "0  00000.ppm  774  411   815  446  11\n",
      "1  00001.ppm  983  388  1024  432  40\n",
      "2  00001.ppm  386  494   442  552  38\n",
      "3  00001.ppm  973  335  1031  390  13\n",
      "4  00002.ppm  892  476  1006  592  39\n"
     ]
    }
   ],
   "source": [
    "dataLoader = DataLoader(verbose=False,names_path=os.path.join('data','obj.names'),desc_path=os.path.\n",
    "           join('TrainIJCNN2013','ReadMe.txt'),in_img_path='TrainIJCNN2013',out_img_path= os.path.join('data','obj'),\n",
    "                        label_path=os.path.join('TrainIJCNN2013','gt.txt'))"
   ]
  },
  {
   "cell_type": "code",
   "execution_count": 79,
   "metadata": {},
   "outputs": [
    {
     "name": "stdout",
     "output_type": "stream",
     "text": [
      "852 examples are available for training\n"
     ]
    },
    {
     "data": {
      "text/plain": [
       "[]"
      ]
     },
     "execution_count": 79,
     "metadata": {},
     "output_type": "execute_result"
    },
    {
     "data": {
      "image/png": "[encoded data removed]",
      "text/plain": [
       "<Figure size 1368x1080 with 2 Axes>"
      ]
     },
     "metadata": {
      "needs_background": "light"
     },
     "output_type": "display_data"
    }
   ],
   "source": [
    "print(str.format(\"{0} examples are available for training\", str(len(dataLoader.gtsdb))))\n",
    "f = plt.figure(figsize=(19, 15))\n",
    "plt.subplot('221')\n",
    "dataLoader.gtsdb.id.hist(bins=34)\n",
    "plt.plot()\n",
    "plt.subplot('222')\n",
    "dataLoader.gtsdb.id.plot.box()\n",
    "plt.plot()\n",
    "\n"
   ]
  },
  {
   "cell_type": "markdown",
   "metadata": {},
   "source": [
    "We can see the dataset is skewed. Indeed, there lots of examples between 0 and 10 classes but fewer between 12 and 34"
   ]
  }
 ],
 "metadata": {
  "kernelspec": {
   "display_name": "Python 3",
   "language": "python",
   "name": "python3"
  },
  "language_info": {
   "codemirror_mode": {
    "name": "ipython",
    "version": 3
   },
   "file_extension": ".py",
   "mimetype": "text/x-python",
   "name": "python",
   "nbconvert_exporter": "python",
   "pygments_lexer": "ipython3",
   "version": "3.6.5"
  }
 },
 "nbformat": 4,
 "nbformat_minor": 4
}
